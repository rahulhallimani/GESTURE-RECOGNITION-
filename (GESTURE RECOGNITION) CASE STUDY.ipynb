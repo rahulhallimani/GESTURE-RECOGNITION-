{
 "cells": [
  {
   "cell_type": "markdown",
   "metadata": {},
   "source": [
    "# Gesture Recognition\n",
    "In this group project, you are going to build a 3D Conv model that will be able to predict the 5 gestures correctly. Please import the following libraries to get started."
   ]
  },
  {
   "cell_type": "code",
   "execution_count": 1,
   "metadata": {},
   "outputs": [
    {
     "name": "stdout",
     "output_type": "stream",
     "text": [
      "Collecting opencv-python\n",
      "  Downloading opencv_python-4.5.5.64-cp36-abi3-manylinux_2_17_x86_64.manylinux2014_x86_64.whl (60.5 MB)\n",
      "\u001b[K     |████████████████████████████████| 60.5 MB 100 kB/s eta 0:00:01\n",
      "\u001b[?25hRequirement already satisfied: numpy>=1.14.5 in /mnt/disks/user/anaconda3/envs/cuda101/lib/python3.8/site-packages (from opencv-python) (1.20.2)\n",
      "Installing collected packages: opencv-python\n",
      "Successfully installed opencv-python-4.5.5.64\n",
      "Note: you may need to restart the kernel to use updated packages.\n"
     ]
    }
   ],
   "source": [
    "pip install opencv-python"
   ]
  },
  {
   "cell_type": "code",
   "execution_count": 2,
   "metadata": {},
   "outputs": [
    {
     "name": "stdout",
     "output_type": "stream",
     "text": [
      "Collecting numpy==1.18.5\n",
      "  Downloading numpy-1.18.5-cp38-cp38-manylinux1_x86_64.whl (20.6 MB)\n",
      "\u001b[K     |████████████████████████████████| 20.6 MB 3.4 MB/s eta 0:00:01\n",
      "\u001b[?25hInstalling collected packages: numpy\n",
      "  Attempting uninstall: numpy\n",
      "    Found existing installation: numpy 1.20.2\n",
      "    Uninstalling numpy-1.20.2:\n",
      "      Successfully uninstalled numpy-1.20.2\n",
      "\u001b[31mERROR: pip's dependency resolver does not currently take into account all the packages that are installed. This behaviour is the source of the following dependency conflicts.\n",
      "tensorflow 2.4.1 requires gast==0.3.3, but you have gast 0.4.0 which is incompatible.\n",
      "tensorflow 2.4.1 requires grpcio~=1.32.0, but you have grpcio 1.37.1 which is incompatible.\n",
      "tensorflow 2.4.1 requires numpy~=1.19.2, but you have numpy 1.18.5 which is incompatible.\u001b[0m\n",
      "Successfully installed numpy-1.18.5\n",
      "Note: you may need to restart the kernel to use updated packages.\n"
     ]
    }
   ],
   "source": [
    "pip install numpy==1.18.5"
   ]
  },
  {
   "cell_type": "code",
   "execution_count": 3,
   "metadata": {},
   "outputs": [
    {
     "name": "stdout",
     "output_type": "stream",
     "text": [
      "Collecting keras\n",
      "  Downloading keras-2.8.0-py2.py3-none-any.whl (1.4 MB)\n",
      "\u001b[K     |████████████████████████████████| 1.4 MB 4.1 MB/s eta 0:00:01\n",
      "\u001b[?25hInstalling collected packages: keras\n",
      "Successfully installed keras-2.8.0\n",
      "Note: you may need to restart the kernel to use updated packages.\n"
     ]
    }
   ],
   "source": [
    "pip install keras"
   ]
  },
  {
   "cell_type": "code",
   "execution_count": 4,
   "metadata": {},
   "outputs": [],
   "source": [
    "## Importing the required libraries.\n",
    "import numpy as np\n",
    "import os\n",
    "from skimage.io import imread \n",
    "import cv2\n",
    "import datetime\n",
    "import os\n",
    "import warnings\n",
    "warnings.filterwarnings(\"ignore\")\n",
    "import abc\n",
    "from sys import getsizeof\n",
    "from skimage.transform import resize\n"
   ]
  },
  {
   "cell_type": "code",
   "execution_count": 5,
   "metadata": {},
   "outputs": [],
   "source": [
    "import cv2\n",
    "import matplotlib.pyplot as plt\n",
    "%matplotlib inline\n",
    "\n"
   ]
  },
  {
   "cell_type": "markdown",
   "metadata": {},
   "source": [
    "We set the random seed so that the results don't vary drastically."
   ]
  },
  {
   "cell_type": "code",
   "execution_count": 6,
   "metadata": {},
   "outputs": [],
   "source": [
    "np.random.seed(30)\n",
    "import random as rn\n",
    "rn.seed(30)\n",
    "import tensorflow as tf\n",
    "tf.random.set_seed(30)"
   ]
  },
  {
   "cell_type": "code",
   "execution_count": 7,
   "metadata": {},
   "outputs": [],
   "source": [
    "\n",
    "\n",
    "project_folder='Project_data'\n",
    "\n",
    "\n"
   ]
  },
  {
   "cell_type": "markdown",
   "metadata": {},
   "source": [
    "In this block, you read the folder names for training and validation. You also set the `batch_size` here. Note that you set the batch size in such a way that you are able to use the GPU in full capacity. You keep increasing the batch size until the machine throws an error."
   ]
  },
  {
   "cell_type": "markdown",
   "metadata": {},
   "source": [
    "Plotting"
   ]
  },
  {
   "cell_type": "code",
   "execution_count": 8,
   "metadata": {},
   "outputs": [],
   "source": [
    "def plot(history):\n",
    "    fig, axes = plt.subplots(nrows=1, ncols=2, figsize=(15,4))\n",
    "    axes[0].plot(history.history['loss'])   \n",
    "    axes[0].plot(history.history['val_loss'])\n",
    "    axes[0].legend(['loss','val_loss'])\n",
    "\n",
    "    axes[1].plot(history.history['categorical_accuracy'])   \n",
    "    axes[1].plot(history.history['val_categorical_accuracy'])\n",
    "    axes[1].legend(['categorical_accuracy','val_categorical_accuracy'])"
   ]
  },
  {
   "cell_type": "code",
   "execution_count": 9,
   "metadata": {},
   "outputs": [
    {
     "name": "stdout",
     "output_type": "stream",
     "text": [
      "Mon May  9 08:24:21 2022       \n",
      "+-----------------------------------------------------------------------------+\n",
      "| NVIDIA-SMI 460.73.01    Driver Version: 460.73.01    CUDA Version: 11.2     |\n",
      "|-------------------------------+----------------------+----------------------+\n",
      "| GPU  Name        Persistence-M| Bus-Id        Disp.A | Volatile Uncorr. ECC |\n",
      "| Fan  Temp  Perf  Pwr:Usage/Cap|         Memory-Usage | GPU-Util  Compute M. |\n",
      "|                               |                      |               MIG M. |\n",
      "|===============================+======================+======================|\n",
      "|   0  Tesla K80           Off  | 00000000:00:04.0 Off |                    0 |\n",
      "| N/A   42C    P0    61W / 149W |      0MiB / 11441MiB |     89%      Default |\n",
      "|                               |                      |                  N/A |\n",
      "+-------------------------------+----------------------+----------------------+\n",
      "                                                                               \n",
      "+-----------------------------------------------------------------------------+\n",
      "| Processes:                                                                  |\n",
      "|  GPU   GI   CI        PID   Type   Process name                  GPU Memory |\n",
      "|        ID   ID                                                   Usage      |\n",
      "|=============================================================================|\n",
      "|  No running processes found                                                 |\n",
      "+-----------------------------------------------------------------------------+\n"
     ]
    }
   ],
   "source": [
    "## Checking the GPU configuration\n",
    "!nvidia-smi\n",
    "\n"
   ]
  },
  {
   "cell_type": "markdown",
   "metadata": {},
   "source": [
    "## Generator\n",
    "This is one of the most important part of the code. The overall structure of the generator has been given. In the generator, you are going to preprocess the images as you have images of 2 different dimensions as well as create a batch of video frames. You have to experiment with `img_idx`, `y`,`z` and normalization such that you get high accuracy."
   ]
  },
  {
   "cell_type": "code",
   "execution_count": 10,
   "metadata": {},
   "outputs": [],
   "source": [
    "class ModelBuilder(metaclass= abc.ABCMeta):\n",
    "    \n",
    "    def initialize_path(self,project_folder):\n",
    "        self.train_doc = np.random.permutation(open('Project_data/train.csv').readlines())\n",
    "        self.val_doc = np.random.permutation(open('Project_data/val.csv').readlines())\n",
    "        self.train_path = 'Project_data/train'\n",
    "        self.val_path =  'Project_data/val'\n",
    "        self.num_train_sequences = len(self.train_doc)\n",
    "        self.num_val_sequences = len(self.val_doc)\n",
    "        \n",
    "    def initialize_image_properties(self,image_height=100,image_width=100):\n",
    "        self.image_height=image_height\n",
    "        self.image_width=image_width\n",
    "        self.channels=3\n",
    "        self.num_classes=5\n",
    "        self.total_frames=30\n",
    "          \n",
    "    def initialize_hyperparams(self,frames_to_sample=30,batch_size=20,num_epochs=20):\n",
    "        self.frames_to_sample=frames_to_sample\n",
    "        self.batch_size=batch_size\n",
    "        self.num_epochs=num_epochs\n",
    "        \n",
    "        \n",
    "    def generator(self,source_path, folder_list, augment=False):\n",
    "        img_idx = np.round(np.linspace(0,self.total_frames-1,self.frames_to_sample)).astype(int)\n",
    "        batch_size=self.batch_size\n",
    "        while True:\n",
    "            t = np.random.permutation(folder_list)\n",
    "            num_batches = len(t)//batch_size\n",
    "        \n",
    "            for batch in range(num_batches): \n",
    "                batch_data, batch_labels= self.one_batch_data(source_path,t,batch,batch_size,img_idx,augment)\n",
    "                yield batch_data, batch_labels \n",
    "\n",
    "            remaining_seq=len(t)%batch_size\n",
    "        \n",
    "            if (remaining_seq != 0):\n",
    "                batch_data, batch_labels= self.one_batch_data(source_path,t,num_batches,batch_size,img_idx,augment,remaining_seq)\n",
    "                yield batch_data, batch_labels \n",
    "    \n",
    "    \n",
    "    def one_batch_data(self,source_path,t,batch,batch_size,img_idx,augment,remaining_seq=0):\n",
    "    \n",
    "        seq_len = remaining_seq if remaining_seq else batch_size\n",
    "    \n",
    "        batch_data = np.zeros((seq_len,len(img_idx),self.image_height,self.image_width,self.channels)) \n",
    "        batch_labels = np.zeros((seq_len,self.num_classes)) \n",
    "    \n",
    "        if (augment): batch_data_aug = np.zeros((seq_len,len(img_idx),self.image_height,self.image_width,self.channels))\n",
    "\n",
    "        \n",
    "        for folder in range(seq_len): \n",
    "            imgs = os.listdir(source_path+'/'+ t[folder + (batch*batch_size)].split(';')[0]) \n",
    "            for idx,item in enumerate(img_idx): \n",
    "                image = imread(source_path+'/'+ t[folder + (batch*batch_size)].strip().split(';')[0]+'/'+imgs[item]).astype(np.float32)\n",
    "                image_resized=resize(image,(self.image_height,self.image_width,3))\n",
    "            \n",
    "\n",
    "                batch_data[folder,idx,:,:,0] = (image_resized[:,:,0])/255\n",
    "                batch_data[folder,idx,:,:,1] = (image_resized[:,:,1])/255\n",
    "                batch_data[folder,idx,:,:,2] = (image_resized[:,:,2])/255\n",
    "            \n",
    "                if (augment):\n",
    "                    shifted = cv2.warpAffine(image, \n",
    "                                             np.float32([[1, 0, np.random.randint(-30,30)],[0, 1, np.random.randint(-30,30)]]), \n",
    "                                            (image.shape[1], image.shape[0]))\n",
    "                    \n",
    "                    gray = cv2.cvtColor(shifted,cv2.COLOR_BGR2GRAY)\n",
    "\n",
    "                    x0, y0 = np.argwhere(gray > 0).min(axis=0)\n",
    "                    x1, y1 = np.argwhere(gray > 0).max(axis=0) \n",
    "                    \n",
    "                    cropped=shifted[x0:x1,y0:y1,:]\n",
    "                    \n",
    "                    image_resized=resize(cropped,(self.image_height,self.image_width,3))\n",
    "                    \n",
    "                    #shifted = cv2.warpAffine(image_resized, \n",
    "                    #                        np.float32([[1, 0, np.random.randint(-3,3)],[0, 1, np.random.randint(-3,3)]]), \n",
    "                    #                        (image_resized.shape[1], image_resized.shape[0]))\n",
    "            \n",
    "                    batch_data_aug[folder,idx,:,:,0] = (image_resized[:,:,0])/255\n",
    "                    batch_data_aug[folder,idx,:,:,1] = (image_resized[:,:,1])/255\n",
    "                    batch_data_aug[folder,idx,:,:,2] = (image_resized[:,:,2])/255\n",
    "                \n",
    "            \n",
    "            batch_labels[folder, int(t[folder + (batch*batch_size)].strip().split(';')[2])] = 1\n",
    "            \n",
    "    \n",
    "        if (augment):\n",
    "            batch_data=np.concatenate([batch_data,batch_data_aug])\n",
    "            batch_labels=np.concatenate([batch_labels,batch_labels])\n",
    "\n",
    "        \n",
    "        return(batch_data,batch_labels)\n",
    "    \n",
    "    \n",
    "    def train_model(self, model, augment_data=False):\n",
    "        train_generator = self.generator(self.train_path, self.train_doc,augment=augment_data)\n",
    "        val_generator = self.generator(self.val_path, self.val_doc)\n",
    "\n",
    "        model_name = 'model_init' + '_' + str(datetime.datetime.now()).replace(' ','').replace(':','_') + '/'\n",
    "    \n",
    "        if not os.path.exists(model_name):\n",
    "            os.mkdir(model_name)\n",
    "        \n",
    "        filepath = model_name + 'model-{epoch:05d}-{loss:.5f}-{categorical_accuracy:.5f}-{val_loss:.5f}-{val_categorical_accuracy:.5f}.h5'\n",
    "\n",
    "        checkpoint = ModelCheckpoint(filepath, monitor='val_loss', verbose=1, save_best_only=False, save_weights_only=False, mode='auto', period=1)\n",
    "        LR = ReduceLROnPlateau(monitor='val_loss', factor=0.2, verbose=1, patience=4)\n",
    "        callbacks_list = [checkpoint, LR]\n",
    "\n",
    "# The steps_per_epoch and validation_steps are used by fit_generator to decide the number of next() calls it need to make\n",
    "        if (self.num_train_sequences%self.batch_size) == 0:\n",
    "            steps_per_epoch = int(self.num_train_sequences/self.batch_size)\n",
    "        else:\n",
    "            steps_per_epoch = (self.num_train_sequences//self.batch_size) + 1\n",
    "\n",
    "        if (self.num_val_sequences%self.batch_size) == 0:\n",
    "            validation_steps = int(self.num_val_sequences/self.batch_size)\n",
    "        else:\n",
    "            validation_steps = (self.num_val_sequences//self.batch_size) + 1\n",
    "#Let us now fit the model. This will start training the model and with the help of the checkpoints, you'll be able to save the model at the end of each epoch  \n",
    "        history=model.fit_generator(train_generator, steps_per_epoch=steps_per_epoch, epochs=self.num_epochs, verbose=1, \n",
    "                            callbacks=callbacks_list, validation_data=val_generator, \n",
    "                            validation_steps=validation_steps, class_weight=None, workers=1, initial_epoch=0)\n",
    "        return history\n",
    "\n",
    "        \n",
    "    @abc.abstractmethod\n",
    "    def define_model(self):\n",
    "        pass"
   ]
  },
  {
   "cell_type": "markdown",
   "metadata": {},
   "source": [
    "Note here that a video is represented above in the generator as (number of images, height, width, number of channels). Take this into consideration while creating the model architecture."
   ]
  },
  {
   "cell_type": "code",
   "execution_count": 11,
   "metadata": {},
   "outputs": [],
   "source": [
    "# Importing the required libraries.\n",
    "from tensorflow.keras.models import Sequential, Model\n",
    "from tensorflow.keras.layers import Dense, GRU, Flatten, TimeDistributed, Flatten, BatchNormalization, Activation\n",
    "from tensorflow.keras.layers import Conv3D, MaxPooling3D, Conv2D, MaxPooling2D\n",
    "from tensorflow.keras.layers import LSTM\n",
    "from tensorflow.keras.callbacks import ModelCheckpoint, ReduceLROnPlateau\n",
    "from tensorflow.keras import optimizers\n",
    "from tensorflow.keras.layers import Dropout\n",
    "\n"
   ]
  },
  {
   "cell_type": "markdown",
   "metadata": {},
   "source": [
    "## Model\n",
    "Here you make the model using different functionalities that Keras provides. Remember to use `Conv3D` and `MaxPooling3D` and not `Conv2D` and `Maxpooling2D` for a 3D convolution model. You would want to use `TimeDistributed` while building a Conv2D + RNN model. Also remember that the last layer is the softmax. Design the network in such a way that the model is able to give good accuracy on the least number of parameters so that it can fit in the memory of the webcam."
   ]
  },
  {
   "cell_type": "markdown",
   "metadata": {},
   "source": [
    "## MODEL 1-:Model 8 - (Conv3D) Reducing the number of parameters"
   ]
  },
  {
   "cell_type": "code",
   "execution_count": 12,
   "metadata": {},
   "outputs": [],
   "source": [
    "class ModelConv3D1(ModelBuilder):\n",
    "    \n",
    "    def define_model(self,dense_neurons=64,dropout=0.25):\n",
    "\n",
    "        model = Sequential()\n",
    "        model.add(Conv3D(8, (3, 3, 3), padding='same',\n",
    "                 input_shape=(self.frames_to_sample,self.image_height,self.image_width,self.channels)))\n",
    "        model.add(Activation('relu'))\n",
    "        model.add(BatchNormalization())\n",
    "        model.add(MaxPooling3D(pool_size=(2, 2, 2)))\n",
    "\n",
    "        model.add(Conv3D(16, (3, 3, 3), padding='same'))\n",
    "        model.add(Activation('relu'))\n",
    "        model.add(BatchNormalization())\n",
    "        model.add(MaxPooling3D(pool_size=(2, 2, 2)))\n",
    "\n",
    "        model.add(Conv3D(32, (2, 2, 2), padding='same'))\n",
    "        model.add(Activation('relu'))\n",
    "        model.add(BatchNormalization())\n",
    "        model.add(MaxPooling3D(pool_size=(2, 2, 2)))\n",
    "\n",
    "        model.add(Conv3D(64, (2, 2, 2), padding='same'))\n",
    "        model.add(Activation('relu'))\n",
    "        model.add(BatchNormalization())\n",
    "        model.add(MaxPooling3D(pool_size=(2, 2, 2)))\n",
    "        \n",
    "        model.add(Flatten())\n",
    "        model.add(Dense(dense_neurons,activation='relu'))\n",
    "        model.add(BatchNormalization())\n",
    "        model.add(Dropout(dropout))\n",
    "\n",
    "        model.add(Dense(dense_neurons,activation='relu'))\n",
    "        model.add(BatchNormalization())\n",
    "        model.add(Dropout(dropout))\n",
    "\n",
    "        model.add(Dense(self.num_classes,activation='softmax'))\n",
    "\n",
    "        optimiser = optimizers.Adam(lr=0.0002)\n",
    "        model.compile(optimizer=optimiser, loss='categorical_crossentropy', metrics=['categorical_accuracy'])\n",
    "        return model"
   ]
  },
  {
   "cell_type": "code",
   "execution_count": 13,
   "metadata": {},
   "outputs": [
    {
     "name": "stdout",
     "output_type": "stream",
     "text": [
      "Model: \"sequential\"\n",
      "_________________________________________________________________\n",
      "Layer (type)                 Output Shape              Param #   \n",
      "=================================================================\n",
      "conv3d (Conv3D)              (None, 16, 120, 120, 8)   656       \n",
      "_________________________________________________________________\n",
      "activation (Activation)      (None, 16, 120, 120, 8)   0         \n",
      "_________________________________________________________________\n",
      "batch_normalization (BatchNo (None, 16, 120, 120, 8)   32        \n",
      "_________________________________________________________________\n",
      "max_pooling3d (MaxPooling3D) (None, 8, 60, 60, 8)      0         \n",
      "_________________________________________________________________\n",
      "conv3d_1 (Conv3D)            (None, 8, 60, 60, 16)     3472      \n",
      "_________________________________________________________________\n",
      "activation_1 (Activation)    (None, 8, 60, 60, 16)     0         \n",
      "_________________________________________________________________\n",
      "batch_normalization_1 (Batch (None, 8, 60, 60, 16)     64        \n",
      "_________________________________________________________________\n",
      "max_pooling3d_1 (MaxPooling3 (None, 4, 30, 30, 16)     0         \n",
      "_________________________________________________________________\n",
      "conv3d_2 (Conv3D)            (None, 4, 30, 30, 32)     4128      \n",
      "_________________________________________________________________\n",
      "activation_2 (Activation)    (None, 4, 30, 30, 32)     0         \n",
      "_________________________________________________________________\n",
      "batch_normalization_2 (Batch (None, 4, 30, 30, 32)     128       \n",
      "_________________________________________________________________\n",
      "max_pooling3d_2 (MaxPooling3 (None, 2, 15, 15, 32)     0         \n",
      "_________________________________________________________________\n",
      "conv3d_3 (Conv3D)            (None, 2, 15, 15, 64)     16448     \n",
      "_________________________________________________________________\n",
      "activation_3 (Activation)    (None, 2, 15, 15, 64)     0         \n",
      "_________________________________________________________________\n",
      "batch_normalization_3 (Batch (None, 2, 15, 15, 64)     256       \n",
      "_________________________________________________________________\n",
      "max_pooling3d_3 (MaxPooling3 (None, 1, 7, 7, 64)       0         \n",
      "_________________________________________________________________\n",
      "flatten (Flatten)            (None, 3136)              0         \n",
      "_________________________________________________________________\n",
      "dense (Dense)                (None, 64)                200768    \n",
      "_________________________________________________________________\n",
      "batch_normalization_4 (Batch (None, 64)                256       \n",
      "_________________________________________________________________\n",
      "dropout (Dropout)            (None, 64)                0         \n",
      "_________________________________________________________________\n",
      "dense_1 (Dense)              (None, 64)                4160      \n",
      "_________________________________________________________________\n",
      "batch_normalization_5 (Batch (None, 64)                256       \n",
      "_________________________________________________________________\n",
      "dropout_1 (Dropout)          (None, 64)                0         \n",
      "_________________________________________________________________\n",
      "dense_2 (Dense)              (None, 5)                 325       \n",
      "=================================================================\n",
      "Total params: 230,949\n",
      "Trainable params: 230,453\n",
      "Non-trainable params: 496\n",
      "_________________________________________________________________\n"
     ]
    }
   ],
   "source": [
    "conv_3d1=ModelConv3D1()\n",
    "conv_3d1.initialize_path(project_folder)\n",
    "conv_3d1.initialize_image_properties(image_height=120,image_width=120)\n",
    "conv_3d1.initialize_hyperparams(frames_to_sample=16,batch_size=20,num_epochs=30)\n",
    "conv_3d1_model=conv_3d1.define_model(dense_neurons=64,dropout=0.25)\n",
    "conv_3d1_model.summary()"
   ]
  },
  {
   "cell_type": "code",
   "execution_count": 14,
   "metadata": {},
   "outputs": [
    {
     "name": "stdout",
     "output_type": "stream",
     "text": [
      "Total Params: 230949\n",
      "WARNING:tensorflow:`period` argument is deprecated. Please use `save_freq` to specify the frequency in number of batches seen.\n",
      "Epoch 1/30\n",
      "34/34 [==============================] - 258s 7s/step - loss: 2.1274 - categorical_accuracy: 0.2266 - val_loss: 1.6326 - val_categorical_accuracy: 0.2600\n",
      "\n",
      "Epoch 00001: saving model to model_init_2022-05-0908_24_38.071502/model-00001-1.98769-0.27149-1.63263-0.26000.h5\n",
      "Epoch 2/30\n",
      "34/34 [==============================] - 157s 5s/step - loss: 1.6291 - categorical_accuracy: 0.3810 - val_loss: 2.2257 - val_categorical_accuracy: 0.1500\n",
      "\n",
      "Epoch 00002: saving model to model_init_2022-05-0908_24_38.071502/model-00002-1.56773-0.40724-2.22574-0.15000.h5\n",
      "Epoch 3/30\n",
      "34/34 [==============================] - 158s 5s/step - loss: 1.3534 - categorical_accuracy: 0.4619 - val_loss: 2.9900 - val_categorical_accuracy: 0.1700\n",
      "\n",
      "Epoch 00003: saving model to model_init_2022-05-0908_24_38.071502/model-00003-1.33593-0.48567-2.98996-0.17000.h5\n",
      "Epoch 4/30\n",
      "34/34 [==============================] - 157s 5s/step - loss: 1.1924 - categorical_accuracy: 0.5383 - val_loss: 3.5284 - val_categorical_accuracy: 0.1800\n",
      "\n",
      "Epoch 00004: saving model to model_init_2022-05-0908_24_38.071502/model-00004-1.19401-0.54072-3.52843-0.18000.h5\n",
      "Epoch 5/30\n",
      "34/34 [==============================] - 159s 5s/step - loss: 1.1571 - categorical_accuracy: 0.5499 - val_loss: 4.1449 - val_categorical_accuracy: 0.1500\n",
      "\n",
      "Epoch 00005: saving model to model_init_2022-05-0908_24_38.071502/model-00005-1.16052-0.55505-4.14489-0.15000.h5\n",
      "\n",
      "Epoch 00005: ReduceLROnPlateau reducing learning rate to 3.9999998989515007e-05.\n",
      "Epoch 6/30\n",
      "34/34 [==============================] - 158s 5s/step - loss: 1.0541 - categorical_accuracy: 0.5659 - val_loss: 4.3338 - val_categorical_accuracy: 0.1600\n",
      "\n",
      "Epoch 00006: saving model to model_init_2022-05-0908_24_38.071502/model-00006-1.06002-0.56938-4.33375-0.16000.h5\n",
      "Epoch 7/30\n",
      "34/34 [==============================] - 155s 5s/step - loss: 0.9909 - categorical_accuracy: 0.6258 - val_loss: 3.9959 - val_categorical_accuracy: 0.1500\n",
      "\n",
      "Epoch 00007: saving model to model_init_2022-05-0908_24_38.071502/model-00007-1.02182-0.61689-3.99593-0.15000.h5\n",
      "Epoch 8/30\n",
      "34/34 [==============================] - 157s 5s/step - loss: 0.9884 - categorical_accuracy: 0.6177 - val_loss: 3.8411 - val_categorical_accuracy: 0.1800\n",
      "\n",
      "Epoch 00008: saving model to model_init_2022-05-0908_24_38.071502/model-00008-1.00210-0.61689-3.84107-0.18000.h5\n",
      "Epoch 9/30\n",
      "34/34 [==============================] - 157s 5s/step - loss: 0.9755 - categorical_accuracy: 0.6266 - val_loss: 3.4295 - val_categorical_accuracy: 0.2000\n",
      "\n",
      "Epoch 00009: saving model to model_init_2022-05-0908_24_38.071502/model-00009-0.95208-0.63122-3.42947-0.20000.h5\n",
      "\n",
      "Epoch 00009: ReduceLROnPlateau reducing learning rate to 7.999999797903002e-06.\n",
      "Epoch 10/30\n",
      "34/34 [==============================] - 155s 5s/step - loss: 0.9390 - categorical_accuracy: 0.6405 - val_loss: 3.1325 - val_categorical_accuracy: 0.2000\n",
      "\n",
      "Epoch 00010: saving model to model_init_2022-05-0908_24_38.071502/model-00010-0.95326-0.63273-3.13248-0.20000.h5\n",
      "Epoch 11/30\n",
      "34/34 [==============================] - 154s 5s/step - loss: 0.9643 - categorical_accuracy: 0.6048 - val_loss: 2.7068 - val_categorical_accuracy: 0.2600\n",
      "\n",
      "Epoch 00011: saving model to model_init_2022-05-0908_24_38.071502/model-00011-0.97773-0.61011-2.70681-0.26000.h5\n",
      "Epoch 12/30\n",
      "34/34 [==============================] - 155s 5s/step - loss: 0.9557 - categorical_accuracy: 0.6325 - val_loss: 2.1332 - val_categorical_accuracy: 0.3200\n",
      "\n",
      "Epoch 00012: saving model to model_init_2022-05-0908_24_38.071502/model-00012-0.95714-0.61689-2.13323-0.32000.h5\n",
      "Epoch 13/30\n",
      "34/34 [==============================] - 155s 5s/step - loss: 0.9664 - categorical_accuracy: 0.6275 - val_loss: 2.3471 - val_categorical_accuracy: 0.2500\n",
      "\n",
      "Epoch 00013: saving model to model_init_2022-05-0908_24_38.071502/model-00013-0.93754-0.64027-2.34710-0.25000.h5\n",
      "\n",
      "Epoch 00013: ReduceLROnPlateau reducing learning rate to 1.5999999959603884e-06.\n",
      "Epoch 14/30\n",
      "34/34 [==============================] - 155s 5s/step - loss: 0.9748 - categorical_accuracy: 0.6290 - val_loss: 1.7431 - val_categorical_accuracy: 0.3800\n",
      "\n",
      "Epoch 00014: saving model to model_init_2022-05-0908_24_38.071502/model-00014-0.95559-0.63725-1.74312-0.38000.h5\n",
      "Epoch 15/30\n",
      "34/34 [==============================] - 154s 5s/step - loss: 0.8977 - categorical_accuracy: 0.6595 - val_loss: 1.4966 - val_categorical_accuracy: 0.4600\n",
      "\n",
      "Epoch 00015: saving model to model_init_2022-05-0908_24_38.071502/model-00015-0.95092-0.63575-1.49655-0.46000.h5\n",
      "Epoch 16/30\n",
      "34/34 [==============================] - 156s 5s/step - loss: 0.8960 - categorical_accuracy: 0.6602 - val_loss: 1.4247 - val_categorical_accuracy: 0.4700\n",
      "\n",
      "Epoch 00016: saving model to model_init_2022-05-0908_24_38.071502/model-00016-0.92148-0.65158-1.42467-0.47000.h5\n",
      "Epoch 17/30\n",
      "34/34 [==============================] - 154s 5s/step - loss: 0.9214 - categorical_accuracy: 0.6395 - val_loss: 1.3349 - val_categorical_accuracy: 0.5000\n",
      "\n",
      "Epoch 00017: saving model to model_init_2022-05-0908_24_38.071502/model-00017-0.94778-0.62821-1.33489-0.50000.h5\n",
      "Epoch 18/30\n",
      "34/34 [==============================] - 158s 5s/step - loss: 1.0221 - categorical_accuracy: 0.6027 - val_loss: 1.2259 - val_categorical_accuracy: 0.5800\n",
      "\n",
      "Epoch 00018: saving model to model_init_2022-05-0908_24_38.071502/model-00018-0.97718-0.62217-1.22590-0.58000.h5\n",
      "Epoch 19/30\n",
      "34/34 [==============================] - 156s 5s/step - loss: 0.9269 - categorical_accuracy: 0.6437 - val_loss: 1.0633 - val_categorical_accuracy: 0.5600\n",
      "\n",
      "Epoch 00019: saving model to model_init_2022-05-0908_24_38.071502/model-00019-0.96256-0.61991-1.06331-0.56000.h5\n",
      "Epoch 20/30\n",
      "34/34 [==============================] - 156s 5s/step - loss: 0.9385 - categorical_accuracy: 0.6368 - val_loss: 1.0656 - val_categorical_accuracy: 0.6200\n",
      "\n",
      "Epoch 00020: saving model to model_init_2022-05-0908_24_38.071502/model-00020-0.94600-0.64178-1.06558-0.62000.h5\n",
      "Epoch 21/30\n",
      "34/34 [==============================] - 155s 5s/step - loss: 0.9355 - categorical_accuracy: 0.6425 - val_loss: 1.0739 - val_categorical_accuracy: 0.6100\n",
      "\n",
      "Epoch 00021: saving model to model_init_2022-05-0908_24_38.071502/model-00021-0.93933-0.63575-1.07388-0.61000.h5\n",
      "Epoch 22/30\n",
      "34/34 [==============================] - 155s 5s/step - loss: 0.8914 - categorical_accuracy: 0.6635 - val_loss: 1.0815 - val_categorical_accuracy: 0.5600\n",
      "\n",
      "Epoch 00022: saving model to model_init_2022-05-0908_24_38.071502/model-00022-0.93042-0.63801-1.08150-0.56000.h5\n",
      "Epoch 23/30\n",
      "34/34 [==============================] - 154s 5s/step - loss: 0.9800 - categorical_accuracy: 0.6185 - val_loss: 1.0100 - val_categorical_accuracy: 0.6600\n",
      "\n",
      "Epoch 00023: saving model to model_init_2022-05-0908_24_38.071502/model-00023-0.94889-0.62821-1.01003-0.66000.h5\n",
      "Epoch 24/30\n",
      "34/34 [==============================] - 154s 5s/step - loss: 0.9002 - categorical_accuracy: 0.6560 - val_loss: 1.1007 - val_categorical_accuracy: 0.5700\n",
      "\n",
      "Epoch 00024: saving model to model_init_2022-05-0908_24_38.071502/model-00024-0.90505-0.64781-1.10070-0.57000.h5\n",
      "Epoch 25/30\n",
      "34/34 [==============================] - 155s 5s/step - loss: 0.9387 - categorical_accuracy: 0.6440 - val_loss: 1.0189 - val_categorical_accuracy: 0.6600\n",
      "\n",
      "Epoch 00025: saving model to model_init_2022-05-0908_24_38.071502/model-00025-0.93680-0.64555-1.01886-0.66000.h5\n",
      "Epoch 26/30\n",
      "34/34 [==============================] - 155s 5s/step - loss: 0.9157 - categorical_accuracy: 0.6544 - val_loss: 1.0185 - val_categorical_accuracy: 0.6300\n",
      "\n",
      "Epoch 00026: saving model to model_init_2022-05-0908_24_38.071502/model-00026-0.87496-0.66817-1.01850-0.63000.h5\n",
      "Epoch 27/30\n",
      "34/34 [==============================] - 154s 5s/step - loss: 0.9481 - categorical_accuracy: 0.6526 - val_loss: 1.0749 - val_categorical_accuracy: 0.5900\n",
      "\n",
      "Epoch 00027: saving model to model_init_2022-05-0908_24_38.071502/model-00027-0.91638-0.65762-1.07494-0.59000.h5\n",
      "\n",
      "Epoch 00027: ReduceLROnPlateau reducing learning rate to 3.200000037395512e-07.\n",
      "Epoch 28/30\n",
      "34/34 [==============================] - 154s 5s/step - loss: 0.8766 - categorical_accuracy: 0.6583 - val_loss: 0.9400 - val_categorical_accuracy: 0.6700\n",
      "\n",
      "Epoch 00028: saving model to model_init_2022-05-0908_24_38.071502/model-00028-0.91275-0.65611-0.94005-0.67000.h5\n",
      "Epoch 29/30\n",
      "34/34 [==============================] - 154s 5s/step - loss: 0.8991 - categorical_accuracy: 0.6258 - val_loss: 1.0049 - val_categorical_accuracy: 0.6300\n",
      "\n",
      "Epoch 00029: saving model to model_init_2022-05-0908_24_38.071502/model-00029-0.92004-0.62745-1.00486-0.63000.h5\n",
      "Epoch 30/30\n",
      "34/34 [==============================] - 153s 5s/step - loss: 0.8747 - categorical_accuracy: 0.6642 - val_loss: 1.0292 - val_categorical_accuracy: 0.6200\n",
      "\n",
      "Epoch 00030: saving model to model_init_2022-05-0908_24_38.071502/model-00030-0.90244-0.66214-1.02920-0.62000.h5\n"
     ]
    }
   ],
   "source": [
    "print(\"Total Params:\", conv_3d1_model.count_params())\n",
    "history_model1=conv_3d1.train_model(conv_3d1_model,augment_data=True)"
   ]
  },
  {
   "cell_type": "code",
   "execution_count": 15,
   "metadata": {
    "scrolled": true
   },
   "outputs": [
    {
     "data": {
      "image/png": "[encoded data removed]",
      "text/plain": [
       "<Figure size 1080x288 with 2 Axes>"
      ]
     },
     "metadata": {
      "needs_background": "light"
     },
     "output_type": "display_data"
    }
   ],
   "source": [
    "plot(history_model1)\n",
    "\n"
   ]
  },
  {
   "cell_type": "markdown",
   "metadata": {},
   "source": [
    "### Its a low memory foot print model giving validation accuracy of 62.00 % and Training accuracy of 66.42% . We need to improve the accuracy of the Model.\n",
    "\n",
    "### Lets augment the data with slight rotation of the pre-processed images as well and run the same set of model again. (More Augmentation)"
   ]
  },
  {
   "cell_type": "markdown",
   "metadata": {},
   "source": [
    "## MODEL 2-: (3,3,3) Filter & 160x160 Image resolution (Conv3D)"
   ]
  },
  {
   "cell_type": "code",
   "execution_count": 16,
   "metadata": {},
   "outputs": [],
   "source": [
    "class ModelBuilderMoreAugmentation(metaclass= abc.ABCMeta):\n",
    "    \n",
    "    def initialize_path(self,project_folder):\n",
    "        self.train_doc = np.random.permutation(open('Project_data/train.csv').readlines())\n",
    "        self.val_doc = np.random.permutation(open('Project_data/val.csv').readlines())\n",
    "        self.train_path = 'Project_data/train'\n",
    "        self.val_path =  'Project_data/val'\n",
    "        self.num_train_sequences = len(self.train_doc)\n",
    "        self.num_val_sequences = len(self.val_doc)\n",
    "        \n",
    "    def initialize_image_properties(self,image_height=100,image_width=100):\n",
    "        self.image_height=image_height\n",
    "        self.image_width=image_width\n",
    "        self.channels=3\n",
    "        self.num_classes=5\n",
    "        self.total_frames=30\n",
    "          \n",
    "    def initialize_hyperparams(self,frames_to_sample=30,batch_size=20,num_epochs=20):\n",
    "        self.frames_to_sample=frames_to_sample\n",
    "        self.batch_size=batch_size\n",
    "        self.num_epochs=num_epochs\n",
    "        \n",
    "        \n",
    "    def generator(self,source_path, folder_list, augment=False):\n",
    "        img_idx = np.round(np.linspace(0,self.total_frames-1,self.frames_to_sample)).astype(int)\n",
    "        batch_size=self.batch_size\n",
    "        while True:\n",
    "            t = np.random.permutation(folder_list)\n",
    "            num_batches = len(t)//batch_size\n",
    "        \n",
    "            for batch in range(num_batches): \n",
    "                batch_data, batch_labels= self.one_batch_data(source_path,t,batch,batch_size,img_idx,augment)\n",
    "                yield batch_data, batch_labels \n",
    "\n",
    "            remaining_seq=len(t)%batch_size\n",
    "        \n",
    "            if (remaining_seq != 0):\n",
    "                batch_data, batch_labels= self.one_batch_data(source_path,t,num_batches,batch_size,img_idx,augment,remaining_seq)\n",
    "                yield batch_data, batch_labels \n",
    "    \n",
    "    \n",
    "    def one_batch_data(self,source_path,t,batch,batch_size,img_idx,augment,remaining_seq=0):\n",
    "    \n",
    "        seq_len = remaining_seq if remaining_seq else batch_size\n",
    "    \n",
    "        batch_data = np.zeros((seq_len,len(img_idx),self.image_height,self.image_width,self.channels)) \n",
    "        batch_labels = np.zeros((seq_len,self.num_classes)) \n",
    "    \n",
    "        if (augment): batch_data_aug = np.zeros((seq_len,len(img_idx),self.image_height,self.image_width,self.channels))\n",
    "\n",
    "        \n",
    "        for folder in range(seq_len): \n",
    "            imgs = os.listdir(source_path+'/'+ t[folder + (batch*batch_size)].split(';')[0]) \n",
    "            for idx,item in enumerate(img_idx): \n",
    "                image = imread(source_path+'/'+ t[folder + (batch*batch_size)].strip().split(';')[0]+'/'+imgs[item]).astype(np.float32)\n",
    "                image_resized=resize(image,(self.image_height,self.image_width,3))\n",
    "            \n",
    "\n",
    "                batch_data[folder,idx,:,:,0] = (image_resized[:,:,0])/255\n",
    "                batch_data[folder,idx,:,:,1] = (image_resized[:,:,1])/255\n",
    "                batch_data[folder,idx,:,:,2] = (image_resized[:,:,2])/255\n",
    "            \n",
    "                if (augment):\n",
    "                    shifted = cv2.warpAffine(image, \n",
    "                                             np.float32([[1, 0, np.random.randint(-30,30)],[0, 1, np.random.randint(-30,30)]]), \n",
    "                                            (image.shape[1], image.shape[0]))\n",
    "                    \n",
    "                    gray = cv2.cvtColor(shifted,cv2.COLOR_BGR2GRAY)\n",
    "\n",
    "                    x0, y0 = np.argwhere(gray > 0).min(axis=0)\n",
    "                    x1, y1 = np.argwhere(gray > 0).max(axis=0) \n",
    "                    \n",
    "                    cropped=shifted[x0:x1,y0:y1,:]\n",
    "                    \n",
    "                    image_resized=resize(cropped,(self.image_height,self.image_width,3))\n",
    "                    \n",
    "                    M = cv2.getRotationMatrix2D((self.image_width//2,self.image_height//2),\n",
    "                                                np.random.randint(-10,10), 1.0)\n",
    "                    rotated = cv2.warpAffine(image_resized, M, (self.image_width, self.image_height))\n",
    "                    \n",
    "                    #shifted = cv2.warpAffine(image_resized, \n",
    "                    #                        np.float32([[1, 0, np.random.randint(-3,3)],[0, 1, np.random.randint(-3,3)]]), \n",
    "                    #                        (image_resized.shape[1], image_resized.shape[0]))\n",
    "            \n",
    "                    batch_data_aug[folder,idx,:,:,0] = (rotated[:,:,0])/255\n",
    "                    batch_data_aug[folder,idx,:,:,1] = (rotated[:,:,1])/255\n",
    "                    batch_data_aug[folder,idx,:,:,2] = (rotated[:,:,2])/255\n",
    "                \n",
    "            \n",
    "            batch_labels[folder, int(t[folder + (batch*batch_size)].strip().split(';')[2])] = 1\n",
    "            \n",
    "    \n",
    "        if (augment):\n",
    "            batch_data=np.concatenate([batch_data,batch_data_aug])\n",
    "            batch_labels=np.concatenate([batch_labels,batch_labels])\n",
    "\n",
    "        \n",
    "        return(batch_data,batch_labels)\n",
    "    \n",
    "    \n",
    "    def train_model(self, model, augment_data=False):\n",
    "        train_generator = self.generator(self.train_path, self.train_doc,augment=augment_data)\n",
    "        val_generator = self.generator(self.val_path, self.val_doc)\n",
    "\n",
    "        model_name = 'model_init' + '_' + str(datetime.datetime.now()).replace(' ','').replace(':','_') + '/'\n",
    "    \n",
    "        if not os.path.exists(model_name):\n",
    "            os.mkdir(model_name)\n",
    "        \n",
    "        filepath = model_name + 'model-{epoch:05d}-{loss:.5f}-{categorical_accuracy:.5f}-{val_loss:.5f}-{val_categorical_accuracy:.5f}.h5'\n",
    "\n",
    "        checkpoint = ModelCheckpoint(filepath, monitor='val_loss', verbose=1, save_best_only=False, save_weights_only=False, mode='auto', period=1)\n",
    "        LR = ReduceLROnPlateau(monitor='val_loss', factor=0.2, verbose=1, patience=4)\n",
    "        callbacks_list = [checkpoint, LR]\n",
    "\n",
    "        if (self.num_train_sequences%self.batch_size) == 0:\n",
    "            steps_per_epoch = int(self.num_train_sequences/self.batch_size)\n",
    "        else:\n",
    "            steps_per_epoch = (self.num_train_sequences//self.batch_size) + 1\n",
    "\n",
    "        if (self.num_val_sequences%self.batch_size) == 0:\n",
    "            validation_steps = int(self.num_val_sequences/self.batch_size)\n",
    "        else:\n",
    "            validation_steps = (self.num_val_sequences//self.batch_size) + 1\n",
    "    \n",
    "        history=model.fit_generator(train_generator, steps_per_epoch=steps_per_epoch, epochs=self.num_epochs, verbose=1, \n",
    "                            callbacks=callbacks_list, validation_data=val_generator, \n",
    "                            validation_steps=validation_steps, class_weight=None, workers=1, initial_epoch=0)\n",
    "        return history\n",
    "\n",
    "        \n",
    "    @abc.abstractmethod\n",
    "    def define_model(self):\n",
    "        pass"
   ]
  },
  {
   "cell_type": "code",
   "execution_count": 17,
   "metadata": {
    "scrolled": true
   },
   "outputs": [],
   "source": [
    "class ModelConv3D2(ModelBuilderMoreAugmentation):\n",
    "    \n",
    "    def define_model(self,filtersize=(3,3,3),dense_neurons=64,dropout=0.25):\n",
    "\n",
    "        model = Sequential()\n",
    "        model.add(Conv3D(16, filtersize, padding='same',\n",
    "                 input_shape=(self.frames_to_sample,self.image_height,self.image_width,self.channels)))\n",
    "        model.add(Activation('relu'))\n",
    "        model.add(BatchNormalization())\n",
    "        model.add(MaxPooling3D(pool_size=(2, 2, 2)))\n",
    "\n",
    "        model.add(Conv3D(32, filtersize, padding='same'))\n",
    "        model.add(Activation('relu'))\n",
    "        model.add(BatchNormalization())\n",
    "        model.add(MaxPooling3D(pool_size=(2, 2, 2)))\n",
    "\n",
    "        model.add(Conv3D(64, filtersize, padding='same'))\n",
    "        model.add(Activation('relu'))\n",
    "        model.add(BatchNormalization())\n",
    "        model.add(MaxPooling3D(pool_size=(2, 2, 2)))\n",
    "\n",
    "        model.add(Conv3D(128, filtersize, padding='same'))\n",
    "        model.add(Activation('relu'))\n",
    "        model.add(BatchNormalization())\n",
    "        model.add(MaxPooling3D(pool_size=(2, 2, 2)))\n",
    "\n",
    "        model.add(Flatten())\n",
    "        model.add(Dense(dense_neurons,activation='relu'))\n",
    "        model.add(BatchNormalization())\n",
    "        model.add(Dropout(dropout))\n",
    "\n",
    "        model.add(Dense(dense_neurons,activation='relu'))\n",
    "        model.add(BatchNormalization())\n",
    "        model.add(Dropout(dropout))\n",
    "\n",
    "\n",
    "        model.add(Dense(self.num_classes,activation='softmax'))\n",
    "\n",
    "        optimiser = optimizers.Adam(lr=0.0002)\n",
    "        model.compile(optimizer=optimiser, loss='categorical_crossentropy', metrics=['categorical_accuracy'])\n",
    "        return model"
   ]
  },
  {
   "cell_type": "code",
   "execution_count": 18,
   "metadata": {},
   "outputs": [
    {
     "name": "stdout",
     "output_type": "stream",
     "text": [
      "Model: \"sequential_1\"\n",
      "_________________________________________________________________\n",
      "Layer (type)                 Output Shape              Param #   \n",
      "=================================================================\n",
      "conv3d_4 (Conv3D)            (None, 20, 160, 160, 16)  1312      \n",
      "_________________________________________________________________\n",
      "activation_4 (Activation)    (None, 20, 160, 160, 16)  0         \n",
      "_________________________________________________________________\n",
      "batch_normalization_6 (Batch (None, 20, 160, 160, 16)  64        \n",
      "_________________________________________________________________\n",
      "max_pooling3d_4 (MaxPooling3 (None, 10, 80, 80, 16)    0         \n",
      "_________________________________________________________________\n",
      "conv3d_5 (Conv3D)            (None, 10, 80, 80, 32)    13856     \n",
      "_________________________________________________________________\n",
      "activation_5 (Activation)    (None, 10, 80, 80, 32)    0         \n",
      "_________________________________________________________________\n",
      "batch_normalization_7 (Batch (None, 10, 80, 80, 32)    128       \n",
      "_________________________________________________________________\n",
      "max_pooling3d_5 (MaxPooling3 (None, 5, 40, 40, 32)     0         \n",
      "_________________________________________________________________\n",
      "conv3d_6 (Conv3D)            (None, 5, 40, 40, 64)     55360     \n",
      "_________________________________________________________________\n",
      "activation_6 (Activation)    (None, 5, 40, 40, 64)     0         \n",
      "_________________________________________________________________\n",
      "batch_normalization_8 (Batch (None, 5, 40, 40, 64)     256       \n",
      "_________________________________________________________________\n",
      "max_pooling3d_6 (MaxPooling3 (None, 2, 20, 20, 64)     0         \n",
      "_________________________________________________________________\n",
      "conv3d_7 (Conv3D)            (None, 2, 20, 20, 128)    221312    \n",
      "_________________________________________________________________\n",
      "activation_7 (Activation)    (None, 2, 20, 20, 128)    0         \n",
      "_________________________________________________________________\n",
      "batch_normalization_9 (Batch (None, 2, 20, 20, 128)    512       \n",
      "_________________________________________________________________\n",
      "max_pooling3d_7 (MaxPooling3 (None, 1, 10, 10, 128)    0         \n",
      "_________________________________________________________________\n",
      "flatten_1 (Flatten)          (None, 12800)             0         \n",
      "_________________________________________________________________\n",
      "dense_3 (Dense)              (None, 256)               3277056   \n",
      "_________________________________________________________________\n",
      "batch_normalization_10 (Batc (None, 256)               1024      \n",
      "_________________________________________________________________\n",
      "dropout_2 (Dropout)          (None, 256)               0         \n",
      "_________________________________________________________________\n",
      "dense_4 (Dense)              (None, 256)               65792     \n",
      "_________________________________________________________________\n",
      "batch_normalization_11 (Batc (None, 256)               1024      \n",
      "_________________________________________________________________\n",
      "dropout_3 (Dropout)          (None, 256)               0         \n",
      "_________________________________________________________________\n",
      "dense_5 (Dense)              (None, 5)                 1285      \n",
      "=================================================================\n",
      "Total params: 3,638,981\n",
      "Trainable params: 3,637,477\n",
      "Non-trainable params: 1,504\n",
      "_________________________________________________________________\n"
     ]
    }
   ],
   "source": [
    "conv_3d2=ModelConv3D2()\n",
    "conv_3d2.initialize_path(project_folder)\n",
    "conv_3d2.initialize_image_properties(image_height=160,image_width=160)\n",
    "conv_3d2.initialize_hyperparams(frames_to_sample=20,batch_size=20,num_epochs=25)\n",
    "conv_3d2_model=conv_3d2.define_model(dense_neurons=256,dropout=0.5)\n",
    "conv_3d2_model.summary()"
   ]
  },
  {
   "cell_type": "code",
   "execution_count": 19,
   "metadata": {},
   "outputs": [
    {
     "name": "stdout",
     "output_type": "stream",
     "text": [
      "Total Params: 3638981\n",
      "WARNING:tensorflow:`period` argument is deprecated. Please use `save_freq` to specify the frequency in number of batches seen.\n",
      "Epoch 1/25\n",
      "34/34 [==============================] - 295s 9s/step - loss: 2.4210 - categorical_accuracy: 0.2853 - val_loss: 1.8206 - val_categorical_accuracy: 0.2500\n",
      "\n",
      "Epoch 00001: saving model to model_init_2022-05-0909_44_17.311227/model-00001-2.16102-0.33710-1.82060-0.25000.h5\n",
      "Epoch 2/25\n",
      "34/34 [==============================] - 228s 7s/step - loss: 1.4685 - categorical_accuracy: 0.4897 - val_loss: 2.4546 - val_categorical_accuracy: 0.2000\n",
      "\n",
      "Epoch 00002: saving model to model_init_2022-05-0909_44_17.311227/model-00002-1.42431-0.49849-2.45462-0.20000.h5\n",
      "Epoch 3/25\n",
      "34/34 [==============================] - 227s 7s/step - loss: 1.2368 - categorical_accuracy: 0.5719 - val_loss: 3.6878 - val_categorical_accuracy: 0.2100\n",
      "\n",
      "Epoch 00003: saving model to model_init_2022-05-0909_44_17.311227/model-00003-1.25353-0.55128-3.68783-0.21000.h5\n",
      "Epoch 4/25\n",
      "34/34 [==============================] - 227s 7s/step - loss: 1.1548 - categorical_accuracy: 0.6147 - val_loss: 4.2775 - val_categorical_accuracy: 0.1800\n",
      "\n",
      "Epoch 00004: saving model to model_init_2022-05-0909_44_17.311227/model-00004-1.13815-0.60935-4.27755-0.18000.h5\n",
      "Epoch 5/25\n",
      "34/34 [==============================] - 227s 7s/step - loss: 0.9763 - categorical_accuracy: 0.6502 - val_loss: 5.8264 - val_categorical_accuracy: 0.2300\n",
      "\n",
      "Epoch 00005: saving model to model_init_2022-05-0909_44_17.311227/model-00005-0.92994-0.65611-5.82640-0.23000.h5\n",
      "\n",
      "Epoch 00005: ReduceLROnPlateau reducing learning rate to 3.9999998989515007e-05.\n",
      "Epoch 6/25\n",
      "34/34 [==============================] - 228s 7s/step - loss: 0.8643 - categorical_accuracy: 0.6819 - val_loss: 6.5604 - val_categorical_accuracy: 0.2100\n",
      "\n",
      "Epoch 00006: saving model to model_init_2022-05-0909_44_17.311227/model-00006-0.87593-0.68703-6.56041-0.21000.h5\n",
      "Epoch 7/25\n",
      "34/34 [==============================] - 228s 7s/step - loss: 0.7820 - categorical_accuracy: 0.7084 - val_loss: 6.8017 - val_categorical_accuracy: 0.2300\n",
      "\n",
      "Epoch 00007: saving model to model_init_2022-05-0909_44_17.311227/model-00007-0.73267-0.72549-6.80167-0.23000.h5\n",
      "Epoch 8/25\n",
      "34/34 [==============================] - 227s 7s/step - loss: 0.7814 - categorical_accuracy: 0.7072 - val_loss: 6.7722 - val_categorical_accuracy: 0.1900\n",
      "\n",
      "Epoch 00008: saving model to model_init_2022-05-0909_44_17.311227/model-00008-0.74811-0.71493-6.77223-0.19000.h5\n",
      "Epoch 9/25\n",
      "34/34 [==============================] - 228s 7s/step - loss: 0.7118 - categorical_accuracy: 0.7253 - val_loss: 6.8556 - val_categorical_accuracy: 0.2200\n",
      "\n",
      "Epoch 00009: saving model to model_init_2022-05-0909_44_17.311227/model-00009-0.71674-0.73379-6.85564-0.22000.h5\n",
      "\n",
      "Epoch 00009: ReduceLROnPlateau reducing learning rate to 7.999999797903002e-06.\n",
      "Epoch 10/25\n",
      "34/34 [==============================] - 227s 7s/step - loss: 0.7102 - categorical_accuracy: 0.7340 - val_loss: 5.9186 - val_categorical_accuracy: 0.2100\n",
      "\n",
      "Epoch 00010: saving model to model_init_2022-05-0909_44_17.311227/model-00010-0.69907-0.74661-5.91857-0.21000.h5\n",
      "Epoch 11/25\n",
      "34/34 [==============================] - 227s 7s/step - loss: 0.7652 - categorical_accuracy: 0.7259 - val_loss: 5.4251 - val_categorical_accuracy: 0.2100\n",
      "\n",
      "Epoch 00011: saving model to model_init_2022-05-0909_44_17.311227/model-00011-0.69336-0.74585-5.42515-0.21000.h5\n",
      "Epoch 12/25\n",
      "34/34 [==============================] - 226s 7s/step - loss: 0.6882 - categorical_accuracy: 0.7416 - val_loss: 4.7646 - val_categorical_accuracy: 0.2200\n",
      "\n",
      "Epoch 00012: saving model to model_init_2022-05-0909_44_17.311227/model-00012-0.70643-0.73982-4.76459-0.22000.h5\n",
      "Epoch 13/25\n",
      "34/34 [==============================] - 227s 7s/step - loss: 0.6862 - categorical_accuracy: 0.7405 - val_loss: 3.7955 - val_categorical_accuracy: 0.2700\n",
      "\n",
      "Epoch 00013: saving model to model_init_2022-05-0909_44_17.311227/model-00013-0.67977-0.73982-3.79553-0.27000.h5\n",
      "\n",
      "Epoch 00013: ReduceLROnPlateau reducing learning rate to 1.5999999959603884e-06.\n",
      "Epoch 14/25\n",
      "34/34 [==============================] - 224s 7s/step - loss: 0.6823 - categorical_accuracy: 0.7666 - val_loss: 3.1274 - val_categorical_accuracy: 0.3000\n",
      "\n",
      "Epoch 00014: saving model to model_init_2022-05-0909_44_17.311227/model-00014-0.66579-0.76697-3.12743-0.30000.h5\n",
      "Epoch 15/25\n",
      "34/34 [==============================] - 228s 7s/step - loss: 0.6575 - categorical_accuracy: 0.7572 - val_loss: 2.7510 - val_categorical_accuracy: 0.3600\n",
      "\n",
      "Epoch 00015: saving model to model_init_2022-05-0909_44_17.311227/model-00015-0.65565-0.76169-2.75101-0.36000.h5\n",
      "Epoch 16/25\n",
      "34/34 [==============================] - 227s 7s/step - loss: 0.6435 - categorical_accuracy: 0.7553 - val_loss: 1.9190 - val_categorical_accuracy: 0.4400\n",
      "\n",
      "Epoch 00016: saving model to model_init_2022-05-0909_44_17.311227/model-00016-0.67630-0.74962-1.91897-0.44000.h5\n",
      "Epoch 17/25\n",
      "34/34 [==============================] - 228s 7s/step - loss: 0.7716 - categorical_accuracy: 0.7182 - val_loss: 1.5757 - val_categorical_accuracy: 0.5200\n",
      "\n",
      "Epoch 00017: saving model to model_init_2022-05-0909_44_17.311227/model-00017-0.71852-0.74434-1.57568-0.52000.h5\n",
      "Epoch 18/25\n",
      "34/34 [==============================] - 227s 7s/step - loss: 0.7152 - categorical_accuracy: 0.7373 - val_loss: 1.3090 - val_categorical_accuracy: 0.5800\n",
      "\n",
      "Epoch 00018: saving model to model_init_2022-05-0909_44_17.311227/model-00018-0.73150-0.72398-1.30903-0.58000.h5\n",
      "Epoch 19/25\n",
      "34/34 [==============================] - 228s 7s/step - loss: 0.6390 - categorical_accuracy: 0.7590 - val_loss: 0.9369 - val_categorical_accuracy: 0.7200\n",
      "\n",
      "Epoch 00019: saving model to model_init_2022-05-0909_44_17.311227/model-00019-0.66004-0.76395-0.93688-0.72000.h5\n",
      "Epoch 20/25\n",
      "34/34 [==============================] - 228s 7s/step - loss: 0.7022 - categorical_accuracy: 0.7376 - val_loss: 0.9470 - val_categorical_accuracy: 0.7500\n",
      "\n",
      "Epoch 00020: saving model to model_init_2022-05-0909_44_17.311227/model-00020-0.70475-0.74585-0.94700-0.75000.h5\n",
      "Epoch 21/25\n",
      "34/34 [==============================] - 225s 7s/step - loss: 0.6693 - categorical_accuracy: 0.7661 - val_loss: 0.7506 - val_categorical_accuracy: 0.7900\n",
      "\n",
      "Epoch 00021: saving model to model_init_2022-05-0909_44_17.311227/model-00021-0.67934-0.75566-0.75062-0.79000.h5\n",
      "Epoch 22/25\n",
      "34/34 [==============================] - 226s 7s/step - loss: 0.6804 - categorical_accuracy: 0.7456 - val_loss: 0.7280 - val_categorical_accuracy: 0.8100\n",
      "\n",
      "Epoch 00022: saving model to model_init_2022-05-0909_44_17.311227/model-00022-0.67662-0.75716-0.72799-0.81000.h5\n",
      "Epoch 23/25\n",
      "34/34 [==============================] - 228s 7s/step - loss: 0.6497 - categorical_accuracy: 0.7753 - val_loss: 0.7694 - val_categorical_accuracy: 0.7400\n",
      "\n",
      "Epoch 00023: saving model to model_init_2022-05-0909_44_17.311227/model-00023-0.65381-0.76471-0.76943-0.74000.h5\n",
      "Epoch 24/25\n",
      "34/34 [==============================] - 225s 7s/step - loss: 0.6920 - categorical_accuracy: 0.7526 - val_loss: 0.6377 - val_categorical_accuracy: 0.8400\n",
      "\n",
      "Epoch 00024: saving model to model_init_2022-05-0909_44_17.311227/model-00024-0.66454-0.75415-0.63767-0.84000.h5\n",
      "Epoch 25/25\n",
      "34/34 [==============================] - 228s 7s/step - loss: 0.6266 - categorical_accuracy: 0.7714 - val_loss: 0.6613 - val_categorical_accuracy: 0.7900\n",
      "\n",
      "Epoch 00025: saving model to model_init_2022-05-0909_44_17.311227/model-00025-0.66741-0.75641-0.66135-0.79000.h5\n"
     ]
    }
   ],
   "source": [
    "print(\"Total Params:\", conv_3d2_model.count_params())\n",
    "history_model2=conv_3d2.train_model(conv_3d2_model,augment_data=True)\n",
    "\n"
   ]
  },
  {
   "cell_type": "code",
   "execution_count": 20,
   "metadata": {},
   "outputs": [
    {
     "data": {
      "image/png": "[encoded data removed]",
      "text/plain": [
       "<Figure size 1080x288 with 2 Axes>"
      ]
     },
     "metadata": {
      "needs_background": "light"
     },
     "output_type": "display_data"
    }
   ],
   "source": [
    "plot(history_model2)\n",
    "\n"
   ]
  },
  {
   "cell_type": "markdown",
   "metadata": {},
   "source": [
    "### The Validation accuracy of 79.00 % and training accuracy of 77.14 % , Model improved when more augmentation was done. "
   ]
  },
  {
   "cell_type": "markdown",
   "metadata": {},
   "source": [
    "## Model 3-: Transfer Learning with GRU and training all weights"
   ]
  },
  {
   "cell_type": "code",
   "execution_count": 21,
   "metadata": {},
   "outputs": [
    {
     "name": "stdout",
     "output_type": "stream",
     "text": [
      "Requirement already satisfied: keras in /mnt/disks/user/anaconda3/envs/cuda101/lib/python3.8/site-packages (2.8.0)\n",
      "Note: you may need to restart the kernel to use updated packages.\n"
     ]
    }
   ],
   "source": [
    "pip install keras"
   ]
  },
  {
   "cell_type": "code",
   "execution_count": 22,
   "metadata": {},
   "outputs": [
    {
     "name": "stdout",
     "output_type": "stream",
     "text": [
      "WARNING:tensorflow:`input_shape` is undefined or non-square, or `rows` is not in [128, 160, 192, 224]. Weights for input shape (224, 224) will be loaded as the default.\n",
      "Downloading data from https://storage.googleapis.com/tensorflow/keras-applications/mobilenet/mobilenet_1_0_224_tf_no_top.h5\n",
      "17227776/17225924 [==============================] - 1s 0us/step\n"
     ]
    }
   ],
   "source": [
    "from tensorflow.keras.applications import mobilenet\n",
    "\n",
    "\n",
    "mobilenet_transfer = mobilenet.MobileNet(weights='imagenet', include_top=False)\n",
    "\n",
    "class RNNCNN_TL3(ModelBuilderMoreAugmentation):\n",
    "    \n",
    "    def define_model(self,gru_cells=64,dense_neurons=64,dropout=0.25):\n",
    "        \n",
    "        model = Sequential()\n",
    "        model.add(TimeDistributed(mobilenet_transfer,input_shape=(self.frames_to_sample,self.image_height,self.image_width,self.channels)))\n",
    " \n",
    "        \n",
    "        model.add(TimeDistributed(BatchNormalization()))\n",
    "        model.add(TimeDistributed(MaxPooling2D((2, 2))))\n",
    "        model.add(TimeDistributed(Flatten()))\n",
    "\n",
    "        model.add(GRU(gru_cells))\n",
    "        model.add(Dropout(dropout))\n",
    "        \n",
    "        model.add(Dense(dense_neurons,activation='relu'))\n",
    "        model.add(Dropout(dropout))\n",
    "        \n",
    "        model.add(Dense(self.num_classes, activation='softmax'))\n",
    "        \n",
    "        \n",
    "        optimiser = optimizers.Adam()\n",
    "        model.compile(optimizer=optimiser, loss='categorical_crossentropy', metrics=['categorical_accuracy'])\n",
    "        return model"
   ]
  },
  {
   "cell_type": "code",
   "execution_count": 23,
   "metadata": {},
   "outputs": [
    {
     "name": "stdout",
     "output_type": "stream",
     "text": [
      "Model: \"sequential_2\"\n",
      "_________________________________________________________________\n",
      "Layer (type)                 Output Shape              Param #   \n",
      "=================================================================\n",
      "time_distributed (TimeDistri (None, 16, 3, 3, 1024)    3228864   \n",
      "_________________________________________________________________\n",
      "time_distributed_1 (TimeDist (None, 16, 3, 3, 1024)    4096      \n",
      "_________________________________________________________________\n",
      "time_distributed_2 (TimeDist (None, 16, 1, 1, 1024)    0         \n",
      "_________________________________________________________________\n",
      "time_distributed_3 (TimeDist (None, 16, 1024)          0         \n",
      "_________________________________________________________________\n",
      "gru (GRU)                    (None, 128)               443136    \n",
      "_________________________________________________________________\n",
      "dropout_4 (Dropout)          (None, 128)               0         \n",
      "_________________________________________________________________\n",
      "dense_6 (Dense)              (None, 128)               16512     \n",
      "_________________________________________________________________\n",
      "dropout_5 (Dropout)          (None, 128)               0         \n",
      "_________________________________________________________________\n",
      "dense_7 (Dense)              (None, 5)                 645       \n",
      "=================================================================\n",
      "Total params: 3,693,253\n",
      "Trainable params: 3,669,317\n",
      "Non-trainable params: 23,936\n",
      "_________________________________________________________________\n"
     ]
    }
   ],
   "source": [
    "rnn_cnn_tl3=RNNCNN_TL3()\n",
    "rnn_cnn_tl3.initialize_path(project_folder)\n",
    "rnn_cnn_tl3.initialize_image_properties(image_height=120,image_width=120)\n",
    "rnn_cnn_tl3.initialize_hyperparams(frames_to_sample=16,batch_size=5,num_epochs=15)\n",
    "rnn_cnn_tl3_model=rnn_cnn_tl3.define_model(gru_cells=128,dense_neurons=128,dropout=0.25)\n",
    "rnn_cnn_tl3_model.summary()"
   ]
  },
  {
   "cell_type": "code",
   "execution_count": null,
   "metadata": {},
   "outputs": [
    {
     "name": "stdout",
     "output_type": "stream",
     "text": [
      "Total Params: 3693253\n",
      "WARNING:tensorflow:`period` argument is deprecated. Please use `save_freq` to specify the frequency in number of batches seen.\n",
      "Epoch 1/15\n",
      "133/133 [==============================] - 165s 1s/step - loss: 1.5464 - categorical_accuracy: 0.3323 - val_loss: 0.7662 - val_categorical_accuracy: 0.6600\n",
      "\n",
      "Epoch 00001: saving model to model_init_2022-05-0911_20_19.398844/model-00001-1.28235-0.45098-0.76625-0.66000.h5\n",
      "Epoch 2/15\n",
      "133/133 [==============================] - 157s 1s/step - loss: 0.6495 - categorical_accuracy: 0.7642 - val_loss: 0.3875 - val_categorical_accuracy: 0.8700\n",
      "\n",
      "Epoch 00002: saving model to model_init_2022-05-0911_20_19.398844/model-00002-0.63922-0.76244-0.38755-0.87000.h5\n",
      "Epoch 3/15\n",
      "133/133 [==============================] - 157s 1s/step - loss: 0.4345 - categorical_accuracy: 0.8395 - val_loss: 0.2048 - val_categorical_accuracy: 0.9400\n",
      "\n",
      "Epoch 00003: saving model to model_init_2022-05-0911_20_19.398844/model-00003-0.42718-0.84314-0.20481-0.94000.h5\n",
      "Epoch 4/15\n",
      "133/133 [==============================] - 158s 1s/step - loss: 0.3601 - categorical_accuracy: 0.8687 - val_loss: 0.3414 - val_categorical_accuracy: 0.8700\n",
      "\n",
      "Epoch 00004: saving model to model_init_2022-05-0911_20_19.398844/model-00004-0.35481-0.87104-0.34141-0.87000.h5\n",
      "Epoch 5/15\n",
      "133/133 [==============================] - 157s 1s/step - loss: 0.2273 - categorical_accuracy: 0.9283 - val_loss: 0.5751 - val_categorical_accuracy: 0.7800\n",
      "\n",
      "Epoch 00005: saving model to model_init_2022-05-0911_20_19.398844/model-00005-0.24974-0.91554-0.57506-0.78000.h5\n",
      "Epoch 6/15\n",
      "133/133 [==============================] - 157s 1s/step - loss: 0.3529 - categorical_accuracy: 0.8744 - val_loss: 0.1863 - val_categorical_accuracy: 0.9400\n",
      "\n",
      "Epoch 00006: saving model to model_init_2022-05-0911_20_19.398844/model-00006-0.28510-0.90271-0.18635-0.94000.h5\n",
      "Epoch 7/15\n",
      "133/133 [==============================] - 158s 1s/step - loss: 0.2245 - categorical_accuracy: 0.9225 - val_loss: 0.7453 - val_categorical_accuracy: 0.7900\n",
      "\n",
      "Epoch 00007: saving model to model_init_2022-05-0911_20_19.398844/model-00007-0.24488-0.91176-0.74533-0.79000.h5\n",
      "Epoch 8/15\n",
      "133/133 [==============================] - 157s 1s/step - loss: 0.2454 - categorical_accuracy: 0.9241 - val_loss: 0.5029 - val_categorical_accuracy: 0.8800\n",
      "\n",
      "Epoch 00008: saving model to model_init_2022-05-0911_20_19.398844/model-00008-0.25996-0.92308-0.50294-0.88000.h5\n",
      "Epoch 9/15\n",
      "133/133 [==============================] - 157s 1s/step - loss: 0.2009 - categorical_accuracy: 0.9512 - val_loss: 0.2649 - val_categorical_accuracy: 0.9100\n",
      "\n",
      "Epoch 00009: saving model to model_init_2022-05-0911_20_19.398844/model-00009-0.18063-0.95023-0.26492-0.91000.h5\n",
      "Epoch 10/15\n",
      "133/133 [==============================] - 155s 1s/step - loss: 0.1887 - categorical_accuracy: 0.9514 - val_loss: 0.1293 - val_categorical_accuracy: 0.9500\n",
      "\n",
      "Epoch 00010: saving model to model_init_2022-05-0911_20_19.398844/model-00010-0.19185-0.94118-0.12934-0.95000.h5\n",
      "Epoch 11/15\n",
      "133/133 [==============================] - 157s 1s/step - loss: 0.1206 - categorical_accuracy: 0.9654 - val_loss: 0.4220 - val_categorical_accuracy: 0.8400\n",
      "\n",
      "Epoch 00011: saving model to model_init_2022-05-0911_20_19.398844/model-00011-0.19391-0.94268-0.42198-0.84000.h5\n",
      "Epoch 12/15\n",
      "133/133 [==============================] - 155s 1s/step - loss: 0.2459 - categorical_accuracy: 0.9302 - val_loss: 0.5693 - val_categorical_accuracy: 0.8000\n",
      "\n",
      "Epoch 00012: saving model to model_init_2022-05-0911_20_19.398844/model-00012-0.26983-0.91780-0.56926-0.80000.h5\n",
      "Epoch 13/15\n",
      "133/133 [==============================] - 156s 1s/step - loss: 0.1631 - categorical_accuracy: 0.9415 - val_loss: 0.1822 - val_categorical_accuracy: 0.9400\n",
      "\n",
      "Epoch 00013: saving model to model_init_2022-05-0911_20_19.398844/model-00013-0.17089-0.93967-0.18217-0.94000.h5\n",
      "Epoch 14/15\n",
      "133/133 [==============================] - 155s 1s/step - loss: 0.1511 - categorical_accuracy: 0.9555 - val_loss: 0.5997 - val_categorical_accuracy: 0.8300\n",
      "\n",
      "Epoch 00014: saving model to model_init_2022-05-0911_20_19.398844/model-00014-0.16059-0.94721-0.59970-0.83000.h5\n",
      "\n",
      "Epoch 00014: ReduceLROnPlateau reducing learning rate to 0.00020000000949949026.\n",
      "Epoch 15/15\n",
      "133/133 [==============================] - 157s 1s/step - loss: 0.1119 - categorical_accuracy: 0.9653 - val_loss: 0.1072 - val_categorical_accuracy: 0.9700\n",
      "\n",
      "Epoch 00015: saving model to model_init_2022-05-0911_20_19.398844/model-00015-0.09427-0.96833-0.10725-0.97000.h5\n"
     ]
    }
   ],
   "source": [
    "print(\"Total Params:\", rnn_cnn_tl3_model.count_params())\n",
    "history_model3=rnn_cnn_tl3.train_model(rnn_cnn_tl3_model,augment_data=True)"
   ]
  },
  {
   "cell_type": "code",
   "execution_count": null,
   "metadata": {},
   "outputs": [
    {
     "data": {
      "image/png": "[encoded data removed]",
      "text/plain": [
       "<Figure size 1080x288 with 2 Axes>"
      ]
     },
     "metadata": {
      "needs_background": "light"
     },
     "output_type": "display_data"
    }
   ],
   "source": [
    "plot(history_model3)\n",
    "\n"
   ]
  },
  {
   "cell_type": "markdown",
   "metadata": {},
   "source": [
    "### MODEL 3 has training accuracy 96.53 % and validation accuracy 97.00 %. Therefore we consider model 3 as the best and final model."
   ]
  },
  {
   "cell_type": "code",
   "execution_count": null,
   "metadata": {},
   "outputs": [],
   "source": []
  },
  {
   "cell_type": "code",
   "execution_count": null,
   "metadata": {},
   "outputs": [],
   "source": []
  },
  {
   "cell_type": "code",
   "execution_count": null,
   "metadata": {},
   "outputs": [],
   "source": []
  },
  {
   "cell_type": "code",
   "execution_count": null,
   "metadata": {},
   "outputs": [],
   "source": []
  },
  {
   "cell_type": "code",
   "execution_count": null,
   "metadata": {},
   "outputs": [],
   "source": []
  },
  {
   "cell_type": "code",
   "execution_count": null,
   "metadata": {},
   "outputs": [],
   "source": []
  },
  {
   "cell_type": "code",
   "execution_count": null,
   "metadata": {},
   "outputs": [],
   "source": []
  },
  {
   "cell_type": "code",
   "execution_count": null,
   "metadata": {},
   "outputs": [],
   "source": []
  },
  {
   "cell_type": "code",
   "execution_count": null,
   "metadata": {},
   "outputs": [],
   "source": []
  },
  {
   "cell_type": "code",
   "execution_count": null,
   "metadata": {},
   "outputs": [],
   "source": []
  },
  {
   "cell_type": "code",
   "execution_count": null,
   "metadata": {},
   "outputs": [],
   "source": []
  },
  {
   "cell_type": "code",
   "execution_count": null,
   "metadata": {},
   "outputs": [],
   "source": []
  },
  {
   "cell_type": "code",
   "execution_count": null,
   "metadata": {},
   "outputs": [],
   "source": []
  },
  {
   "cell_type": "code",
   "execution_count": null,
   "metadata": {},
   "outputs": [],
   "source": []
  },
  {
   "cell_type": "code",
   "execution_count": null,
   "metadata": {},
   "outputs": [],
   "source": []
  },
  {
   "cell_type": "code",
   "execution_count": null,
   "metadata": {},
   "outputs": [],
   "source": []
  },
  {
   "cell_type": "code",
   "execution_count": null,
   "metadata": {},
   "outputs": [],
   "source": [
    "\n"
   ]
  },
  {
   "cell_type": "code",
   "execution_count": null,
   "metadata": {},
   "outputs": [],
   "source": []
  },
  {
   "cell_type": "code",
   "execution_count": null,
   "metadata": {},
   "outputs": [],
   "source": []
  },
  {
   "cell_type": "code",
   "execution_count": null,
   "metadata": {},
   "outputs": [],
   "source": []
  },
  {
   "cell_type": "code",
   "execution_count": null,
   "metadata": {},
   "outputs": [],
   "source": []
  },
  {
   "cell_type": "code",
   "execution_count": null,
   "metadata": {},
   "outputs": [],
   "source": []
  },
  {
   "cell_type": "code",
   "execution_count": null,
   "metadata": {},
   "outputs": [],
   "source": []
  },
  {
   "cell_type": "code",
   "execution_count": null,
   "metadata": {},
   "outputs": [],
   "source": []
  },
  {
   "cell_type": "code",
   "execution_count": null,
   "metadata": {},
   "outputs": [],
   "source": []
  },
  {
   "cell_type": "code",
   "execution_count": null,
   "metadata": {},
   "outputs": [],
   "source": []
  },
  {
   "cell_type": "code",
   "execution_count": null,
   "metadata": {},
   "outputs": [],
   "source": []
  },
  {
   "cell_type": "code",
   "execution_count": null,
   "metadata": {},
   "outputs": [],
   "source": []
  },
  {
   "cell_type": "code",
   "execution_count": null,
   "metadata": {},
   "outputs": [],
   "source": []
  },
  {
   "cell_type": "code",
   "execution_count": null,
   "metadata": {},
   "outputs": [],
   "source": []
  },
  {
   "cell_type": "code",
   "execution_count": null,
   "metadata": {},
   "outputs": [],
   "source": []
  },
  {
   "cell_type": "code",
   "execution_count": null,
   "metadata": {},
   "outputs": [],
   "source": []
  },
  {
   "cell_type": "code",
   "execution_count": null,
   "metadata": {},
   "outputs": [],
   "source": []
  },
  {
   "cell_type": "code",
   "execution_count": null,
   "metadata": {},
   "outputs": [],
   "source": []
  },
  {
   "cell_type": "code",
   "execution_count": null,
   "metadata": {},
   "outputs": [],
   "source": []
  },
  {
   "cell_type": "code",
   "execution_count": null,
   "metadata": {},
   "outputs": [],
   "source": []
  },
  {
   "cell_type": "code",
   "execution_count": null,
   "metadata": {},
   "outputs": [],
   "source": []
  },
  {
   "cell_type": "code",
   "execution_count": null,
   "metadata": {},
   "outputs": [],
   "source": []
  },
  {
   "cell_type": "code",
   "execution_count": null,
   "metadata": {},
   "outputs": [],
   "source": []
  },
  {
   "cell_type": "code",
   "execution_count": null,
   "metadata": {},
   "outputs": [],
   "source": []
  },
  {
   "cell_type": "code",
   "execution_count": null,
   "metadata": {},
   "outputs": [],
   "source": []
  },
  {
   "cell_type": "code",
   "execution_count": null,
   "metadata": {},
   "outputs": [],
   "source": []
  },
  {
   "cell_type": "code",
   "execution_count": null,
   "metadata": {},
   "outputs": [],
   "source": []
  },
  {
   "cell_type": "code",
   "execution_count": null,
   "metadata": {},
   "outputs": [],
   "source": [
    "\n"
   ]
  }
 ],
 "metadata": {
  "kernelspec": {
   "display_name": "Python 3 (ipykernel)",
   "language": "python",
   "name": "python3"
  },
  "language_info": {
   "codemirror_mode": {
    "name": "ipython",
    "version": 3
   },
   "file_extension": ".py",
   "mimetype": "text/x-python",
   "name": "python",
   "nbconvert_exporter": "python",
   "pygments_lexer": "ipython3",
   "version": "3.9.7"
  }
 },
 "nbformat": 4,
 "nbformat_minor": 2
}
